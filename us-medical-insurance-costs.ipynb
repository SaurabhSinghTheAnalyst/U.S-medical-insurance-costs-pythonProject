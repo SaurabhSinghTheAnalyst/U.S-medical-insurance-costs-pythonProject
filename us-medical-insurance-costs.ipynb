{
 "cells": [
  {
   "cell_type": "markdown",
   "metadata": {},
   "source": [
    "# U.S. Medical Insurance Costs"
   ]
  },
  {
   "cell_type": "code",
   "execution_count": 27,
   "metadata": {},
   "outputs": [],
   "source": [
    "import csv\n",
    "\n",
    "with open ('insurance.csv') as insurance_file:\n",
    "    age = []\n",
    "    sex = []\n",
    "    bmi = []\n",
    "    children = []\n",
    "    smoker = []\n",
    "    region = []\n",
    "    charges = []\n",
    "    \n",
    "    reader = csv.DictReader(insurance_file)\n",
    "    for row in reader:\n",
    "        age.append(int(row['age']))\n",
    "        sex.append(row['sex'])\n",
    "        bmi.append(float(row['bmi']))\n",
    "        children.append(int(row['children']))\n",
    "        smoker.append(row['smoker'])\n",
    "        region.append(row['region'])\n",
    "        charges.append(float(row['charges']))\n"
   ]
  },
  {
   "cell_type": "code",
   "execution_count": 50,
   "metadata": {},
   "outputs": [
    {
     "name": "stdout",
     "output_type": "stream",
     "text": [
      "38.21150971599402\n"
     ]
    }
   ],
   "source": [
    "#Find out the average age of the patients in the dataset.\n",
    "\n",
    "class average:\n",
    "    \n",
    "    def __init__ (self,age):\n",
    "        self.age = age\n",
    "    \n",
    "    \n",
    "    def averageAge (self, age):\n",
    "        self.age = age\n",
    "        sum = 0\n",
    "        for i in self.age:\n",
    "            sum = sum + self.age[i]\n",
    "            average = float(sum / len(self.age))\n",
    "        return average\n",
    "    \n",
    "averageAge = average(age)\n",
    "print(averageAge.averageAge(age))"
   ]
  },
  {
   "cell_type": "code",
   "execution_count": 59,
   "metadata": {},
   "outputs": [
    {
     "name": "stdout",
     "output_type": "stream",
     "text": [
      "Southwest: 325 Southeast: 364northwest: 325 northeast: 324\n"
     ]
    }
   ],
   "source": [
    "#Analyze where a majority of the individuals are from.\n",
    "\n",
    "class CalculateRegion:\n",
    "    def __init__ (self, region):\n",
    "        self.region = region\n",
    "        \n",
    "    def calculate(self, region):\n",
    "        self.region = region\n",
    "        southwest = 0\n",
    "        southeast = 0\n",
    "        northwest = 0\n",
    "        northeast = 0\n",
    "        for i in region: \n",
    "            if i == 'southwest':\n",
    "                southwest = southwest +1\n",
    "            elif i == 'southeast':\n",
    "                southeast = southeast + 1\n",
    "            elif i == 'northwest':\n",
    "                northwest = northwest + 1\n",
    "            elif i == 'northeast':\n",
    "                northeast = northeast + 1\n",
    "            \n",
    "        calculatedRegions = \"Southwest: \" + str(southwest) + \" \" + \"Southeast: \" + str(southeast) + \"northwest: \" + str(northwest) + \" northeast: \" + str(northeast)\n",
    "        return calculatedRegions\n",
    "\n",
    "numRegions = CalculateRegion(region)\n",
    "\n",
    "print(numRegions.calculate(region))\n",
    "        "
   ]
  },
  {
   "cell_type": "code",
   "execution_count": 95,
   "metadata": {},
   "outputs": [
    {
     "name": "stdout",
     "output_type": "stream",
     "text": [
      "\n",
      "    764 people have at least 1 child. Their average insurance cost is 13949.94.\n",
      "    \n",
      "(13949.94109348167, 764)\n"
     ]
    }
   ],
   "source": [
    "#Figure out what the average age is for someone who has at least one child in this dataset.\n",
    "a_and_c = list(zip(charges, children))\n",
    "#print(a_and_c)\n",
    "def calculateAverageAge(lst):\n",
    "    num_atleast_1 = 0\n",
    "    sum =0\n",
    "    for (x,y) in lst:\n",
    "        if y > 0:\n",
    "            num_atleast_1 +=1\n",
    "            sum = sum + float(x)\n",
    "            average = sum/num_atleast_1\n",
    "    return average, num_atleast_1\n",
    "\n",
    "print(calculateAverageAge(a_and_c))\n",
    "   "
   ]
  },
  {
   "cell_type": "code",
   "execution_count": 86,
   "metadata": {},
   "outputs": [
    {
     "name": "stdout",
     "output_type": "stream",
     "text": [
      "total charge for males is 9434763.796139995. total charge for females is 8321061.194618994\n"
     ]
    }
   ],
   "source": [
    "#Look at the different costs between smokers vs. non-smokers.\n",
    "\n",
    "s_c = list(zip(sex, charges))\n",
    "#print(sns_c)\n",
    "\n",
    "def difference(lst):\n",
    "    \n",
    "    male_charges =0\n",
    "    female_charges = 0\n",
    "    \n",
    "    for (x,y) in lst:\n",
    "            if x == 'male':\n",
    "                male_charges = male_charges + y\n",
    "            \n",
    "            elif x == 'female':\n",
    "                female_charges = female_charges + y\n",
    "                \n",
    "    display = \"total charge for males is {}. total charge for females is {}\". format(male_charges, female_charges)\n",
    "    \n",
    "    return display\n",
    "\n",
    "print(difference(s_c))\n",
    "                \n",
    "    \n",
    "    "
   ]
  }
 ],
 "metadata": {
  "kernelspec": {
   "display_name": "Python 3",
   "language": "python",
   "name": "python3"
  },
  "language_info": {
   "codemirror_mode": {
    "name": "ipython",
    "version": 3
   },
   "file_extension": ".py",
   "mimetype": "text/x-python",
   "name": "python",
   "nbconvert_exporter": "python",
   "pygments_lexer": "ipython3",
   "version": "3.8.5"
  }
 },
 "nbformat": 4,
 "nbformat_minor": 4
}
